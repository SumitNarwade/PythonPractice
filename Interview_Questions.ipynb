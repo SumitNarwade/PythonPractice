{
 "cells": [
  {
   "cell_type": "markdown",
   "id": "96584e8c",
   "metadata": {},
   "source": [
    "How can you cancatinate two tuples?"
   ]
  },
  {
   "cell_type": "code",
   "execution_count": 1,
   "id": "284c75fe",
   "metadata": {},
   "outputs": [],
   "source": [
    "tup1 = (1, \"a\", True)\n",
    "tup2 = (4, 5, 6)"
   ]
  },
  {
   "cell_type": "code",
   "execution_count": 2,
   "id": "e4cfbd7a",
   "metadata": {},
   "outputs": [
    {
     "data": {
      "text/plain": [
       "(1, 'a', True, 4, 5, 6)"
      ]
     },
     "execution_count": 2,
     "metadata": {},
     "output_type": "execute_result"
    }
   ],
   "source": [
    "tup1 + tup2"
   ]
  },
  {
   "cell_type": "code",
   "execution_count": 3,
   "id": "08612594",
   "metadata": {},
   "outputs": [
    {
     "data": {
      "text/plain": [
       "(4, 5, 6, 1, 'a', True)"
      ]
     },
     "execution_count": 3,
     "metadata": {},
     "output_type": "execute_result"
    }
   ],
   "source": [
    "tup2 + tup1"
   ]
  },
  {
   "cell_type": "markdown",
   "id": "249d1bee",
   "metadata": {},
   "source": [
    "How can you initialise a 5*5 Numpy Array with only zeros"
   ]
  },
  {
   "cell_type": "code",
   "execution_count": 6,
   "id": "6015219c",
   "metadata": {},
   "outputs": [
    {
     "data": {
      "text/plain": [
       "array([[0., 0., 0., 0., 0.],\n",
       "       [0., 0., 0., 0., 0.],\n",
       "       [0., 0., 0., 0., 0.],\n",
       "       [0., 0., 0., 0., 0.],\n",
       "       [0., 0., 0., 0., 0.]])"
      ]
     },
     "execution_count": 6,
     "metadata": {},
     "output_type": "execute_result"
    }
   ],
   "source": [
    "import numpy as np\n",
    "\n",
    "n1 = np.zeros((5,5))\n",
    "n1"
   ]
  },
  {
   "cell_type": "markdown",
   "id": "8b02a96a",
   "metadata": {},
   "source": [
    "what is pandas series?"
   ]
  },
  {
   "cell_type": "code",
   "execution_count": 8,
   "id": "7e90f8ab",
   "metadata": {},
   "outputs": [],
   "source": [
    "import pandas as pd\n",
    "\n",
    "data = [\"1\", 7, \"Sumit\", 0.77]"
   ]
  },
  {
   "cell_type": "code",
   "execution_count": 12,
   "id": "19972294",
   "metadata": {},
   "outputs": [
    {
     "name": "stdout",
     "output_type": "stream",
     "text": [
      "0        1\n",
      "1        7\n",
      "2    Sumit\n",
      "3     0.77\n",
      "dtype: object\n",
      "<class 'pandas.core.series.Series'>\n"
     ]
    }
   ],
   "source": [
    "series = pd.Series(data)\n",
    "print(series)\n",
    "print(type(series))"
   ]
  },
  {
   "cell_type": "markdown",
   "id": "7d16c856",
   "metadata": {},
   "source": [
    "What is the use of Group by function in pandas?"
   ]
  },
  {
   "cell_type": "code",
   "execution_count": 13,
   "id": "8557e917",
   "metadata": {},
   "outputs": [],
   "source": [
    "df = pd.DataFrame({'Vehicle': ['kia', 'Lamborgini','Pulsar','KTM100'],\n",
    "                   'type' :['car', 'car', 'motorcycle','motorcycle']})"
   ]
  },
  {
   "cell_type": "code",
   "execution_count": 14,
   "id": "4b756760",
   "metadata": {},
   "outputs": [
    {
     "name": "stdout",
     "output_type": "stream",
     "text": [
      "      Vehicle        type\n",
      "0         kia         car\n",
      "1  Lamborgini         car\n",
      "2      Pulsar  motorcycle\n",
      "3      KTM100  motorcycle\n"
     ]
    }
   ],
   "source": [
    "print(df)"
   ]
  },
  {
   "cell_type": "markdown",
   "id": "ae305757",
   "metadata": {},
   "source": [
    "By using GroupBy operation"
   ]
  },
  {
   "cell_type": "code",
   "execution_count": 16,
   "id": "4ffbb8ee",
   "metadata": {},
   "outputs": [
    {
     "data": {
      "text/html": [
       "<div>\n",
       "<style scoped>\n",
       "    .dataframe tbody tr th:only-of-type {\n",
       "        vertical-align: middle;\n",
       "    }\n",
       "\n",
       "    .dataframe tbody tr th {\n",
       "        vertical-align: top;\n",
       "    }\n",
       "\n",
       "    .dataframe thead th {\n",
       "        text-align: right;\n",
       "    }\n",
       "</style>\n",
       "<table border=\"1\" class=\"dataframe\">\n",
       "  <thead>\n",
       "    <tr style=\"text-align: right;\">\n",
       "      <th></th>\n",
       "      <th>Vehicle</th>\n",
       "    </tr>\n",
       "    <tr>\n",
       "      <th>type</th>\n",
       "      <th></th>\n",
       "    </tr>\n",
       "  </thead>\n",
       "  <tbody>\n",
       "    <tr>\n",
       "      <th>car</th>\n",
       "      <td>2</td>\n",
       "    </tr>\n",
       "    <tr>\n",
       "      <th>motorcycle</th>\n",
       "      <td>2</td>\n",
       "    </tr>\n",
       "  </tbody>\n",
       "</table>\n",
       "</div>"
      ],
      "text/plain": [
       "            Vehicle\n",
       "type               \n",
       "car               2\n",
       "motorcycle        2"
      ]
     },
     "execution_count": 16,
     "metadata": {},
     "output_type": "execute_result"
    }
   ],
   "source": [
    "df.groupby('type').count()"
   ]
  },
  {
   "cell_type": "markdown",
   "id": "b97c0158",
   "metadata": {},
   "source": [
    "How to create a DatFrame from the list?"
   ]
  },
  {
   "cell_type": "code",
   "execution_count": 21,
   "id": "9ad8a501",
   "metadata": {},
   "outputs": [
    {
     "name": "stdout",
     "output_type": "stream",
     "text": [
      "   bikes        cars\n",
      "0   baja  rangeRiver\n",
      "1  honda  Volkswagan\n",
      "2    tvs   Marcidize\n"
     ]
    }
   ],
   "source": [
    "df = pd.DataFrame()\n",
    "\n",
    "bikes = [\"baja\", \"honda\", \"tvs\"]\n",
    "cars  = [\"rangeRiver\", \"Volkswagan\", \"Marcidize\"]\n",
    "\n",
    "df['bikes'] = bikes\n",
    "df['cars']  = cars\n",
    "\n",
    "print(df)"
   ]
  },
  {
   "cell_type": "markdown",
   "id": "d06a8dc0",
   "metadata": {},
   "source": [
    "How to create a DatFrame from the Dictionary?"
   ]
  },
  {
   "cell_type": "code",
   "execution_count": 24,
   "id": "91c6d500",
   "metadata": {},
   "outputs": [
    {
     "name": "stdout",
     "output_type": "stream",
     "text": [
      "         cars  bikes\n",
      "0  rangeRiver   baja\n",
      "1  Volkswagan  honda\n",
      "2   Marcidize    tvs\n"
     ]
    }
   ],
   "source": [
    "df = pd.DataFrame()\n",
    "\n",
    "bikes = [\"baja\", \"honda\", \"tvs\"]\n",
    "cars  = [\"rangeRiver\", \"Volkswagan\", \"Marcidize\"]\n",
    "\n",
    "d = {\"cars\": cars, \"bikes\": bikes}\n",
    "\n",
    "df = pd.DataFrame(d)\n",
    "\n",
    "print(df)"
   ]
  },
  {
   "cell_type": "code",
   "execution_count": 29,
   "id": "7599bef2",
   "metadata": {},
   "outputs": [
    {
     "name": "stdout",
     "output_type": "stream",
     "text": [
      "         cars  bikes\n",
      "0  rangeRover   baja\n",
      "1  Volkswagan  honda\n",
      "2   Marcidize    tvs\n"
     ]
    }
   ],
   "source": [
    "df = pd.DataFrame()\n",
    "\n",
    "\n",
    "bikes = [\"baja\", \"honda\", \"tvs\"]\n",
    "cars  = [\"rangeRover\", \"Volkswagan\", \"Marcidize\"]\n",
    "\n",
    "d = {\"cars\": cars, \"bikes\": bikes}\n",
    "\n",
    "df = pd.DataFrame(d)\n",
    "\n",
    "print(df)\n",
    "\n"
   ]
  },
  {
   "cell_type": "markdown",
   "id": "ec44d86f",
   "metadata": {},
   "source": [
    "How to access the data from a DataFrame using a value as Index"
   ]
  },
  {
   "cell_type": "code",
   "execution_count": 30,
   "id": "1f906bd5",
   "metadata": {},
   "outputs": [
    {
     "data": {
      "text/plain": [
       "cars     rangeRover\n",
       "bikes         bajaj\n",
       "Name: 10, dtype: object"
      ]
     },
     "execution_count": 30,
     "metadata": {},
     "output_type": "execute_result"
    }
   ],
   "source": [
    "df = pd.DataFrame()\n",
    "\n",
    "\n",
    "bikes = [\"bajaj\", \"honda\", \"tvs\"]\n",
    "cars  = [\"rangeRover\", \"Volkswagan\", \"Marcidize\"]\n",
    "\n",
    "d = {\"cars\": cars, \"bikes\": bikes}\n",
    "\n",
    "df = pd.DataFrame(d)\n",
    "\n",
    "a = [10, 20, 30]\n",
    "\n",
    "df.index = a\n",
    "\n",
    "df.loc[10]"
   ]
  },
  {
   "cell_type": "markdown",
   "id": "a7b1e64d",
   "metadata": {},
   "source": [
    "FindOut The measures of central tendency for this \n",
    "NumPy array:np.array([1,5,5,3,100,4,48])"
   ]
  },
  {
   "cell_type": "code",
   "execution_count": 32,
   "id": "80093532",
   "metadata": {},
   "outputs": [
    {
     "name": "stdout",
     "output_type": "stream",
     "text": [
      "23.714285714285715\n",
      "5.0\n",
      "34.73044891205198\n"
     ]
    }
   ],
   "source": [
    "import numpy as np\n",
    "\n",
    "n1 = np.array([1,5,5,3,100,4,48])\n",
    "\n",
    "print(np.mean(n1))\n",
    "print(np.median(n1))\n",
    "print(np.std(n1))"
   ]
  },
  {
   "cell_type": "markdown",
   "id": "41a35b41",
   "metadata": {},
   "source": [
    "How do you get a list of all the keys in a Dictionary? "
   ]
  },
  {
   "cell_type": "code",
   "execution_count": 33,
   "id": "02601644",
   "metadata": {},
   "outputs": [
    {
     "data": {
      "text/plain": [
       "dict_keys([1, 2, 3])"
      ]
     },
     "execution_count": 33,
     "metadata": {},
     "output_type": "execute_result"
    }
   ],
   "source": [
    "dict = {1:'a', 2:'b', 3:'c'}\n",
    "\n",
    "dict.keys()"
   ]
  },
  {
   "cell_type": "markdown",
   "id": "68acce00",
   "metadata": {},
   "source": [
    "How can you capitilize the first letter of the String?\n"
   ]
  },
  {
   "cell_type": "code",
   "execution_count": 37,
   "id": "628d9106",
   "metadata": {},
   "outputs": [
    {
     "data": {
      "text/plain": [
       "'Blissful'"
      ]
     },
     "execution_count": 37,
     "metadata": {},
     "output_type": "execute_result"
    }
   ],
   "source": [
    "d = \"blissful\"\n",
    "\n",
    "d.capitalize()"
   ]
  },
  {
   "cell_type": "markdown",
   "id": "bc664022",
   "metadata": {},
   "source": [
    "How can you insert an element at a given index in Python?"
   ]
  },
  {
   "cell_type": "code",
   "execution_count": 40,
   "id": "2121f1b7",
   "metadata": {},
   "outputs": [
    {
     "name": "stdout",
     "output_type": "stream",
     "text": [
      "[0, 1, 2, 3, 4, 5, 10, 6, 7, 8]\n"
     ]
    }
   ],
   "source": [
    "list = [0,1,2,3,4,5,6,7,8]\n",
    "\n",
    "list.insert(6,10)\n",
    "\n",
    "print(list)"
   ]
  },
  {
   "cell_type": "code",
   "execution_count": 41,
   "id": "bb704044",
   "metadata": {},
   "outputs": [
    {
     "name": "stdout",
     "output_type": "stream",
     "text": [
      "[0, 1, 2, 3, 4, 5, 6, 7, 8, 6]\n"
     ]
    }
   ],
   "source": [
    "list = [0,1,2,3,4,5,6,7,8]\n",
    "\n",
    "list.insert(10,6)\n",
    "\n",
    "print(list)"
   ]
  },
  {
   "cell_type": "markdown",
   "id": "52c4f5d6",
   "metadata": {},
   "source": [
    "How will you remove duplicate elements from a list?"
   ]
  },
  {
   "cell_type": "code",
   "execution_count": 1,
   "id": "be426706",
   "metadata": {},
   "outputs": [
    {
     "name": "stdout",
     "output_type": "stream",
     "text": [
      "['s', 'd', 'a', 'p']\n"
     ]
    }
   ],
   "source": [
    "my_list = [\"s\",\"d\",\"a\",\"p\",\"s\"]\n",
    "\n",
    "my_list = list(dict.fromkeys(my_list))\n",
    "\n",
    "print(my_list)"
   ]
  },
  {
   "cell_type": "markdown",
   "id": "5470baee",
   "metadata": {},
   "source": [
    "What is a map() function in Python?"
   ]
  },
  {
   "cell_type": "code",
   "execution_count": 2,
   "id": "375cc5e3",
   "metadata": {},
   "outputs": [
    {
     "name": "stdout",
     "output_type": "stream",
     "text": [
      "[3, 6, 9, 12, 15, 18, 21]\n"
     ]
    }
   ],
   "source": [
    "def add_funct(n):\n",
    "    return n * 3\n",
    "\n",
    "num = (1,2,3,4,5,6,7)\n",
    "\n",
    "result = map(add_funct,num)\n",
    "\n",
    "print(list(result))"
   ]
  },
  {
   "cell_type": "code",
   "execution_count": 1,
   "id": "cf311746",
   "metadata": {},
   "outputs": [
    {
     "name": "stdout",
     "output_type": "stream",
     "text": [
      "[3, 6, 9, 12, 15, 18, 21]\n"
     ]
    }
   ],
   "source": [
    "def add_funct(n):\n",
    "    return n * 3\n",
    "num = (1,2,3,4,5,6,7)\n",
    "\n",
    "result = map(add_funct,num)\n",
    "\n",
    "print(list(result))"
   ]
  },
  {
   "cell_type": "markdown",
   "id": "efd97aa5",
   "metadata": {},
   "source": [
    "How can be number can be converted to string?\n"
   ]
  },
  {
   "cell_type": "code",
   "execution_count": 3,
   "id": "2de3884f",
   "metadata": {},
   "outputs": [
    {
     "name": "stdout",
     "output_type": "stream",
     "text": [
      "<class 'int'>\n",
      "<class 'str'>\n"
     ]
    }
   ],
   "source": [
    "n = 10\n",
    "\n",
    "print(type(n))\n",
    "\n",
    "new_n = str(n)\n",
    "\n",
    "print(type(new_n))"
   ]
  },
  {
   "cell_type": "markdown",
   "id": "c2f26d3f",
   "metadata": {},
   "source": [
    "what is the len() function?"
   ]
  },
  {
   "cell_type": "code",
   "execution_count": 4,
   "id": "9792645b",
   "metadata": {},
   "outputs": [
    {
     "name": "stdout",
     "output_type": "stream",
     "text": [
      "8\n"
     ]
    }
   ],
   "source": [
    "s  = \"Blissful\"\n",
    "\n",
    "print(len(s))"
   ]
  },
  {
   "cell_type": "markdown",
   "id": "3d0ee001",
   "metadata": {},
   "source": [
    "what is the split() function?"
   ]
  },
  {
   "cell_type": "code",
   "execution_count": 7,
   "id": "d42d8a12",
   "metadata": {},
   "outputs": [
    {
     "name": "stdout",
     "output_type": "stream",
     "text": [
      "['A', ' B', ' C']\n"
     ]
    }
   ],
   "source": [
    "letters = (\"A, B, C\")\n",
    "\n",
    "n = letters.split(\",\")\n",
    "\n",
    "print(n)"
   ]
  },
  {
   "cell_type": "code",
   "execution_count": 17,
   "id": "eb90a893",
   "metadata": {},
   "outputs": [
    {
     "name": "stdout",
     "output_type": "stream",
     "text": [
      "['Sumit', ' Pranali']\n"
     ]
    }
   ],
   "source": [
    "letters = (\"Sumit, Pranali\")\n",
    "\n",
    "n  = letters.split(\",\")\n",
    "\n",
    "print(n)"
   ]
  },
  {
   "cell_type": "markdown",
   "id": "5a597327",
   "metadata": {},
   "source": [
    "what is the use of LAMBDA function?"
   ]
  },
  {
   "cell_type": "code",
   "execution_count": 21,
   "id": "d9863512",
   "metadata": {},
   "outputs": [
    {
     "name": "stdout",
     "output_type": "stream",
     "text": [
      "21\n"
     ]
    }
   ],
   "source": [
    "triple = lambda x:x * 3\n",
    "\n",
    "print(triple(7))"
   ]
  },
  {
   "cell_type": "code",
   "execution_count": 22,
   "id": "67c86af2",
   "metadata": {},
   "outputs": [
    {
     "name": "stdout",
     "output_type": "stream",
     "text": [
      "6\n"
     ]
    }
   ],
   "source": [
    "mul = lambda a,b : a * b\n",
    "\n",
    "print(mul(2,3))"
   ]
  },
  {
   "cell_type": "code",
   "execution_count": 29,
   "id": "2840ecc5",
   "metadata": {},
   "outputs": [
    {
     "name": "stdout",
     "output_type": "stream",
     "text": [
      "The factorial of 20 is 2432902008176640000\n"
     ]
    }
   ],
   "source": [
    "def factorial(a):\n",
    "    if a == 1:\n",
    "        return 1\n",
    "    \n",
    "    else:\n",
    "        return (a * factorial(a-1))\n",
    "input_number = 20\n",
    "\n",
    "print(\"The factorial of\" ,input_number, \"is\", factorial(input_number))\n",
    "    \n"
   ]
  },
  {
   "cell_type": "code",
   "execution_count": null,
   "id": "e44f6570",
   "metadata": {},
   "outputs": [],
   "source": []
  }
 ],
 "metadata": {
  "kernelspec": {
   "display_name": "Python 3",
   "language": "python",
   "name": "python3"
  },
  "language_info": {
   "codemirror_mode": {
    "name": "ipython",
    "version": 3
   },
   "file_extension": ".py",
   "mimetype": "text/x-python",
   "name": "python",
   "nbconvert_exporter": "python",
   "pygments_lexer": "ipython3",
   "version": "3.8.8"
  }
 },
 "nbformat": 4,
 "nbformat_minor": 5
}
